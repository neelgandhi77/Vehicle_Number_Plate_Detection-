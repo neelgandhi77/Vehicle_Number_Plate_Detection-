{
 "cells": [
  {
   "cell_type": "code",
   "execution_count": 2,
   "metadata": {},
   "outputs": [
    {
     "name": "stderr",
     "output_type": "stream",
     "text": [
      "CUDA not available - defaulting to CPU. Note: This module is much faster with a GPU.\n"
     ]
    }
   ],
   "source": [
    "reader=easyocr.Reader(['en'],gpu=True)\n",
    "#reader=easyocr.Reader(['en'])"
   ]
  },
  {
   "cell_type": "code",
   "execution_count": null,
   "metadata": {},
   "outputs": [],
   "source": [
    "\n",
    "\n",
    "\n"
   ]
  },
  {
   "cell_type": "code",
   "execution_count": null,
   "metadata": {},
   "outputs": [],
   "source": []
  },
  {
   "cell_type": "code",
   "execution_count": null,
   "metadata": {},
   "outputs": [],
   "source": [
    "#import matplotlib.pyplot as plt"
   ]
  },
  {
   "cell_type": "code",
   "execution_count": null,
   "metadata": {},
   "outputs": [],
   "source": []
  },
  {
   "cell_type": "code",
   "execution_count": null,
   "metadata": {},
   "outputs": [],
   "source": []
  },
  {
   "cell_type": "code",
   "execution_count": null,
   "metadata": {},
   "outputs": [],
   "source": []
  },
  {
   "cell_type": "code",
   "execution_count": 1,
   "metadata": {},
   "outputs": [],
   "source": [
    "import pytesseract\n",
    "import cv2\n",
    "import imutils\n",
    "import easyocr\n",
    "import os"
   ]
  },
  {
   "cell_type": "code",
   "execution_count": 4,
   "metadata": {},
   "outputs": [],
   "source": [
    "pytesseract.pytesseract.tesseract_cmd = r'C:\\Users\\LENOVO\\anaconda3\\Lib\\site-packages\\Tesseract-OCR\\tesseract.exe'"
   ]
  },
  {
   "cell_type": "code",
   "execution_count": 5,
   "metadata": {},
   "outputs": [],
   "source": [
    "import pandas as pd"
   ]
  },
  {
   "cell_type": "code",
   "execution_count": 6,
   "metadata": {},
   "outputs": [],
   "source": [
    "from tkinter import *\n",
    "from tkinter import filedialog\n",
    "from PIL import Image, ImageTk"
   ]
  },
  {
   "cell_type": "code",
   "execution_count": 7,
   "metadata": {},
   "outputs": [],
   "source": [
    "li=[]"
   ]
  },
  {
   "cell_type": "code",
   "execution_count": null,
   "metadata": {},
   "outputs": [],
   "source": []
  },
  {
   "cell_type": "code",
   "execution_count": null,
   "metadata": {},
   "outputs": [],
   "source": []
  },
  {
   "cell_type": "code",
   "execution_count": 8,
   "metadata": {},
   "outputs": [],
   "source": [
    "def pytecimage():\n",
    "    global li\n",
    "    f=filedialog.askopenfilename(initialdir=os.getcwd(),title='Select Image File',filetypes=((\"JPG File\",\"*.jpg\"),(\"PNG File\",\"*.png\"),(\"All Files\",\"*.*\")))\n",
    "    if f == \"\":\n",
    "        try:\n",
    "            img=None\n",
    "            lb4.configure(text=\"\",image=img)\n",
    "            lb4.image=img\n",
    "            lbl_temp.config(fg=\"blue\",text=\"Sry! You haven't Entered Any Image Path...Try Again\")\n",
    "            \n",
    "\n",
    "        except:\n",
    "            \n",
    "            img=None\n",
    "            lb4.configure(text=\"\",image=img)\n",
    "            lb4.image=img\n",
    "            lbl_temp.config(fg=\"blue\", text=\"Sry! Your given path is wrong or give path is not an Image!!!\")\n",
    "       \n",
    "    else:\n",
    "        try:\n",
    "            txt=f\n",
    "           \n",
    "            img=Image.open(txt)\n",
    "            img = img.resize((450, 350), Image.ANTIALIAS)\n",
    "            img=ImageTk.PhotoImage(img)\n",
    "            lb4.configure(text=\"\",image=img)\n",
    "            lb4.image=img\n",
    "            \n",
    "            res=txtfetch(f)\n",
    "            lbl_temp.config(fg=\"blue\", text=res)\n",
    "            \n",
    "            \n",
    "            img1=cv2.imread(str(txt))\n",
    "            img1 = imutils.resize(img1,height=100, width=300)\n",
    "            gray = cv2.cvtColor(img1, cv2.COLOR_BGR2GRAY)\n",
    "        \n",
    "            flter=cv2.bilateralFilter (gray, 11,17, 17)\n",
    "            edge=cv2.Canny (flter, 170,200)\n",
    "            contor, herf=cv2. findContours (edge, cv2.RETR_TREE,cv2.CHAIN_APPROX_SIMPLE)\n",
    "            ctn=sorted (contor, key=cv2 .contourArea, reverse=True)[:30]\n",
    "            \n",
    "            for c in ctn:\n",
    "                peri=cv2.arcLength (c, True)\n",
    "                epsilon=0.02*peri\n",
    "                apporx=cv2.approxPolyDP(c, epsilon, True)\n",
    "                if len(apporx)==4:\n",
    "                    final=cv2 .drawContours(img1, [apporx] ,-1, (255, 0,0) ,3)\n",
    "                    x,y,w,h = cv2.boundingRect(c)\n",
    "                    new_img=img1[y:y+h,x:x+w]\n",
    "                    break\n",
    "            \n",
    "            \n",
    "            #config1=\"--psm 6\"\n",
    "            #ans=pytesseract.image_to_string(new_img,config =config1,lang='eng')\n",
    "            #if(ans):\n",
    "                #lbl_temp.config(fg=\"blue\", text=res)\n",
    "            if(res):\n",
    "                li.append(res)\n",
    "                \n",
    "            #cv2.imshow(\"ok\",new_img)\n",
    "            #cv2.waitkey(0)\n",
    "        except:\n",
    "     \n",
    "            img=None\n",
    "            lb4.configure(text=\"\",image=img)\n",
    "            lb4.image=img\n",
    "            lbl_temp.config(fg=\"blue\", text=\"Sry! Your given path is wrong or give path is not an Image!!!\")"
   ]
  },
  {
   "cell_type": "code",
   "execution_count": null,
   "metadata": {},
   "outputs": [],
   "source": []
  },
  {
   "cell_type": "code",
   "execution_count": null,
   "metadata": {},
   "outputs": [],
   "source": []
  },
  {
   "cell_type": "code",
   "execution_count": 9,
   "metadata": {},
   "outputs": [],
   "source": [
    "def txtfetch(f):\n",
    "    global reader\n",
    "    img=cv2.imread(f)\n",
    "    gray = cv2.cvtColor(img, cv2.COLOR_BGR2GRAY,0)\n",
    "    gray = cv2.bilateralFilter(gray, 17, 17, 17) #Blur to reduce noise\n",
    "    bounds=reader.readtext(gray)\n",
    "            \n",
    "    lst=[]\n",
    "    res=''\n",
    "    for i in bounds:\n",
    "        lst.append(i[1])\n",
    "        \n",
    "    max_len = -1\n",
    "    for ele in lst:\n",
    "        if len(ele) > max_len:\n",
    "            max_len = len(ele) \n",
    "            res = ele\n",
    "            \n",
    "    bad_chars = [';', ':', '!', '*','|','||','[',']','(',')',\"/\",'#']\n",
    "\n",
    "    test_string =res\n",
    "\n",
    "    for i in bad_chars :\n",
    "        test_string = test_string.replace(i, '')\n",
    "    \n",
    "    test_string = test_string.replace('\"', '')\n",
    "    res=str(test_string)\n",
    "    res1=''\n",
    "\n",
    "    if (res[0].isdigit() and res[1].isdigit() ):\n",
    "        res1='GJ'\n",
    "        for i in range(2,len(res)):\n",
    "            res1+=res[i]\n",
    "        return res1\n",
    "    elif(res[0]==0 or res[0]==6):\n",
    "        res1='G'\n",
    "        for i in range(1,len(res)):\n",
    "            res1+=res[i]\n",
    "        return res1\n",
    "    else:\n",
    "        return res\n"
   ]
  },
  {
   "cell_type": "code",
   "execution_count": null,
   "metadata": {},
   "outputs": [],
   "source": []
  },
  {
   "cell_type": "code",
   "execution_count": 10,
   "metadata": {},
   "outputs": [],
   "source": [
    "def save_num(li):\n",
    "    temp=dict()\n",
    "    temp[\" Driver Number \"]=[i for i in range(1,len(li)+1)]\n",
    "    temp[\" Vehicle Number \"]=[i for i in li]\n",
    "    \n",
    "    df = pd.DataFrame(temp)\n",
    "    df.to_csv (r'desktop/data1.csv',index=False,header=True)\n",
    "    print(df)"
   ]
  },
  {
   "cell_type": "code",
   "execution_count": null,
   "metadata": {},
   "outputs": [],
   "source": []
  },
  {
   "cell_type": "code",
   "execution_count": 11,
   "metadata": {},
   "outputs": [],
   "source": [
    "r = Tk()\n",
    "r.title(\"Number Detection\")\n",
    "r.geometry('550x650') \n",
    "r.resizable(0, 0)\n",
    "FILE2 = StringVar()"
   ]
  },
  {
   "cell_type": "code",
   "execution_count": null,
   "metadata": {},
   "outputs": [],
   "source": []
  },
  {
   "cell_type": "code",
   "execution_count": 12,
   "metadata": {},
   "outputs": [],
   "source": [
    "Mid = Frame(r)\n",
    "Mid.pack(pady=20)\n",
    "\n",
    "Left = Frame(Mid)\n",
    "Left.pack(side=LEFT)\n",
    "\n",
    "Right = Frame(Mid)\n",
    "Right.pack(side=RIGHT)\n",
    "\n",
    "BelowMid = Frame(r)\n",
    "BelowMid.pack()\n",
    "\n",
    "Bottom = Frame(r)\n",
    "Bottom.pack()\n"
   ]
  },
  {
   "cell_type": "code",
   "execution_count": 13,
   "metadata": {},
   "outputs": [],
   "source": [
    "lb4 = Label(Bottom,image=None)\n",
    "lb4.pack()\n",
    "\n",
    "lbltxt = Label(Bottom, text=\"Number is Here!!!!\")\n",
    "lbltxt.pack()\n",
    "\n",
    "lbl_temp = Label(Bottom)\n",
    "lbl_temp.pack()\n",
    "\n",
    "\n"
   ]
  },
  {
   "cell_type": "code",
   "execution_count": null,
   "metadata": {},
   "outputs": [],
   "source": []
  },
  {
   "cell_type": "code",
   "execution_count": 14,
   "metadata": {},
   "outputs": [],
   "source": [
    "btn= Button(BelowMid, fg='white',text=\"Image To Text\",bg='green', command=pytecimage)\n",
    "btn.pack(pady=10)"
   ]
  },
  {
   "cell_type": "code",
   "execution_count": null,
   "metadata": {},
   "outputs": [],
   "source": []
  },
  {
   "cell_type": "code",
   "execution_count": null,
   "metadata": {},
   "outputs": [],
   "source": []
  },
  {
   "cell_type": "code",
   "execution_count": 15,
   "metadata": {},
   "outputs": [
    {
     "name": "stdout",
     "output_type": "stream",
     "text": [
      "    Driver Number   Vehicle Number \n",
      "0                1      KL 55R 2473\n",
      "1                2       6J05JC6039\n",
      "2                3         GJ05J668\n"
     ]
    }
   ],
   "source": [
    "if __name__ == '__main__':\n",
    "    r.mainloop()\n",
    "    save_num(li)"
   ]
  },
  {
   "cell_type": "code",
   "execution_count": null,
   "metadata": {},
   "outputs": [],
   "source": [
    "#now this all details are save to csv file let's see"
   ]
  },
  {
   "cell_type": "code",
   "execution_count": 16,
   "metadata": {},
   "outputs": [],
   "source": [
    "#Thank You"
   ]
  },
  {
   "cell_type": "code",
   "execution_count": 39,
   "metadata": {},
   "outputs": [],
   "source": [
    "\n",
    " "
   ]
  },
  {
   "cell_type": "code",
   "execution_count": null,
   "metadata": {},
   "outputs": [],
   "source": [
    "\n"
   ]
  },
  {
   "cell_type": "code",
   "execution_count": null,
   "metadata": {},
   "outputs": [],
   "source": []
  },
  {
   "cell_type": "code",
   "execution_count": null,
   "metadata": {},
   "outputs": [],
   "source": []
  },
  {
   "cell_type": "code",
   "execution_count": null,
   "metadata": {},
   "outputs": [],
   "source": []
  },
  {
   "cell_type": "code",
   "execution_count": null,
   "metadata": {},
   "outputs": [],
   "source": []
  }
 ],
 "metadata": {
  "kernelspec": {
   "display_name": "Python 3",
   "language": "python",
   "name": "python3"
  },
  "language_info": {
   "codemirror_mode": {
    "name": "ipython",
    "version": 3
   },
   "file_extension": ".py",
   "mimetype": "text/x-python",
   "name": "python",
   "nbconvert_exporter": "python",
   "pygments_lexer": "ipython3",
   "version": "3.6.5"
  }
 },
 "nbformat": 4,
 "nbformat_minor": 4
}
